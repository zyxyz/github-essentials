{
 "cells": [
  {
   "cell_type": "code",
   "execution_count": null,
   "metadata": {
    "hide_input": false
   },
   "outputs": [],
   "source": [
    "from preamble import *\n",
    "%matplotlib inline"
   ]
  },
  {
   "cell_type": "markdown",
   "metadata": {
    "hide_input": false
   },
   "source": [
    "## 소개"
   ]
  },
  {
   "cell_type": "markdown",
   "metadata": {},
   "source": [
    "### 왜 머신 러닝인가?"
   ]
  },
  {
   "cell_type": "raw",
   "metadata": {},
   "source": [
    "# 초창기 지능형 애플리케이션\n",
    "  * Rule-based expert system (규칙 기반 전문가 시스템)  \n",
    "    - 수많은 if ~ else ~ 조합\n",
    "    - 결정 규칙을 수동으로 작성\n",
    "  * 단점\n",
    "    - 결정에 필요한 로직이 한 분야나 작업에 국한\n",
    "      로직/작업이 조금만 변경되어도 전체 시스템을 재개발\n",
    "    - 해당 도메인에 대한 깊은 이해 필요\n",
    "  * 대표적인 실패 사례\n",
    "    - 얼굴 인식 시스템\n",
    "      : 컴퓨터는 픽셀로 얼굴 인식 <= 사람이 인식하는 방식과 매우 다름\n",
    "        즉, 특징을 찾기 힘듦"
   ]
  },
  {
   "cell_type": "markdown",
   "metadata": {},
   "source": [
    "#### 머신 러닝으로 풀 수 있는 문제"
   ]
  },
  {
   "cell_type": "raw",
   "metadata": {},
   "source": [
    "# 지도 학습(Supervised Learning)\n",
    "  \n",
    "  * Labeled Data\n",
    "  * Direct Feedback\n",
    "  * Predict Outcome/Future\n",
    "  \n",
    "  - 이미 알려진 사례를 바탕으로 일반화된 모델을 만들어 의사 결정 프로세스를 자동화\n",
    "  - 알고리즘에 입력과 기대되는 출력을 제공\n",
    "  - 알고리즘은 주어진 입력에서 원하는 출력을 만드는 방법을 찾음\n",
    "  \n",
    "  - 학습 후 사람의 도움 없이 새로운 입력에 대해 적절한 출력 계산\n",
    "  \n",
    "  * 활용:\n",
    "    - 예측값이 이산값 -> 분류(Classification)\n",
    "        : 이미지에 해당하는 값이 0인가 1인가 2인가 ~~~ 9인가?\n",
    "    - 예측값이 연속값 -> 회귀(Regression) Prediction\n",
    "        : 3개월 뒤 이 아파트 가격은 얼마일 것인가?\n",
    "  \n",
    "  예) * 편지 봉투에 손으로 쓴 우편번호 숫자 판별\n",
    "        - 입력: 손글씨 스캔 이미지\n",
    "        - 출력: 우편번호 숫자\n",
    "      * 의료 영상 이미지에 기반한 종양 판단\n",
    "        - 입력: 의료 영상 이미지\n",
    "        - 출력: 종양의 양성 여부\n",
    "      * 의심되는 신용카드 거래 감지\n",
    "        - 입력: 신용카드 거래 내역\n",
    "        - 출력: 부정 거래인지 여부\n",
    "        \n",
    "# 비지도 학습(Unsupervised Learning)\n",
    "\n",
    "  * No Labels\n",
    "  * No Feedback\n",
    "  * Find Hidden Structure\n",
    "  \n",
    "  - 입력은 주어지지만 그에 대한 출력은 주어지지 않음\n",
    "  \n",
    "  * 활용:\n",
    "    - 군집화(Clustering)\n",
    "    - 분류(Classification)\n",
    "  \n",
    "  예) * 블로그 글의 주제 구분\n",
    "        - 많은 양의 텍스트를 요약 -> 핵심 주제 찾기\n",
    "        - 사전에 얼마나 많은 글과 주제가 있는지 알 수 없음\n",
    "      * 고객들을 취향이 비슷한 그룹으로 묶기\n",
    "        - 어떤 그룹이 있는지 미리 알 수 없음\n",
    "        - 얼마나 많은 그룹이 있는지 미리 알 수 없음\n",
    "      * 비정상적인 웹사이트 접근 탐지\n",
    "        - 웹 트래픽만으로 웹사이트 접근 패턴이 정상인지 비정상인지 미리 알 수 없음\n",
    "        \n",
    "# 강화 학습(Reinforcement Learning)\n",
    "\n",
    "  * Decision Process\n",
    "  * Reward System\n",
    "  * Learn Series of Actions\n",
    "  \n",
    "  - 행동심리학으로부터 영향\n",
    "  - 에이전트가 현재의 상태(State)를 인식하여 주어진 환경에 대해 어떤 행동(Action)을 취하고 그에 대한 보상(reward)을 받으면서 학습 진행\n",
    "  - 이 때 보상을 최대화되는 행동을 선택하도록 학습 진행\n",
    "  - 입출력 쌍으로 이루어진 훈련 집합이 제시되지 않음\n",
    "  \n",
    "  예) * 블록 격파 게임, 체스\n",
    "        - 점수를 가장 많이 획득할 수 있는 방법을 스스로 찾음\n",
    "      * 엘리베이터 스케줄링"
   ]
  },
  {
   "cell_type": "markdown",
   "metadata": {},
   "source": [
    "#### 문제와 데이터를 이해하기"
   ]
  },
  {
   "cell_type": "raw",
   "metadata": {},
   "source": [
    "* 어떤 질문에 대한 답을 원하는가? 가지고 있는 데이터가 원하는 답을 줄 수 있는가?\n",
    "* 내 질문을 머신러닝의 문제로 가장 잘 기술하는 방법은 무엇인가?\n",
    "* 문제를 풀기에 충분한 데이터를 모았는가?\n",
    "* 내가 추출한 데이터의 특성은 무엇이며 좋은 예측을 만들어낼 수 있을 것인가?\n",
    "* 머신러닝 애플리케이션의 성과를 어떻게 측정할 수 있는가?\n",
    "* 머신러닝 솔루션이 다른 연구나 제품과 어떻게 협력할 수 있는가?"
   ]
  },
  {
   "cell_type": "markdown",
   "metadata": {},
   "source": [
    "### 왜 파이썬인가?"
   ]
  },
  {
   "cell_type": "raw",
   "metadata": {},
   "source": [
    "* 데이터 과학 분야를 위한 표준 프로그래밍 언어로 진화 중\n",
    "\n",
    "* 범용 프로그래밍 언어의 장점 + R, MATLAB과 같은 특정 분야를 위한 스크립팅 언어의 편리함\n",
    "\n",
    "* 대화형 개발 환경 제공\n",
    "\n",
    "* 다양한 고성능의 라이브러리 제공\n",
    "  : 데이터 적재, 시각화, 통계, 자연어 처리, 이미지 처리, 기계 학습 등"
   ]
  },
  {
   "cell_type": "markdown",
   "metadata": {},
   "source": [
    "### scikit-learn\n",
    "#### Scikit-learn 설치"
   ]
  },
  {
   "cell_type": "markdown",
   "metadata": {},
   "source": [
    "### 필수 라이브러리와 도구들\n",
    "#### 주피터 노트북\n",
    "#### NumPy"
   ]
  },
  {
   "cell_type": "code",
   "execution_count": null,
   "metadata": {
    "uuid": "e2b8e959-75f0-4fa9-a878-5ab024f89223"
   },
   "outputs": [],
   "source": [
    "import numpy as np\n",
    "\n",
    "x = np.array([[1, 2, 3], [4, 5, 6]])\n",
    "print(\"x:\\n{}\".format(x))"
   ]
  },
  {
   "cell_type": "markdown",
   "metadata": {},
   "source": [
    "#### SciPy"
   ]
  },
  {
   "cell_type": "code",
   "execution_count": null,
   "metadata": {},
   "outputs": [],
   "source": [
    "from scipy import sparse\n",
    "\n",
    "# 대각선 원소는 1이고 나머지는 0인 2차원 NumPy 배열을 만듭니다.\n",
    "eye = np.eye(4)\n",
    "print(\"NumPy 배열:\\n{}\".format(eye))"
   ]
  },
  {
   "cell_type": "code",
   "execution_count": null,
   "metadata": {},
   "outputs": [],
   "source": [
    "# NumPy 배열을 CSR 포맷의 SciPy 희박 행렬로 변환합니다.\n",
    "# 0이 아닌 원소만 저장됩니다.\n",
    "sparse_matrix = sparse.csr_matrix(eye)\n",
    "print(\"\\nSciPy의 CSR 행렬:\\n{}\".format(sparse_matrix))"
   ]
  },
  {
   "cell_type": "code",
   "execution_count": null,
   "metadata": {},
   "outputs": [],
   "source": [
    "data = np.ones(4)\n",
    "row_indices = np.arange(4)\n",
    "col_indices = np.arange(4)\n",
    "eye_coo = sparse.coo_matrix((data, (row_indices, col_indices)))\n",
    "print(\"COO 표현:\\n{}\".format(eye_coo))"
   ]
  },
  {
   "cell_type": "markdown",
   "metadata": {},
   "source": [
    "#### matplotlib"
   ]
  },
  {
   "cell_type": "code",
   "execution_count": null,
   "metadata": {
    "uuid": "30faf136-0ef7-4762-bd82-3795eea323d0"
   },
   "outputs": [],
   "source": [
    "%matplotlib inline\n",
    "import matplotlib.pyplot as plt\n",
    "\n",
    "# -10에서 10까지 100개의 간격으로 나뉘어진 배열을 생성합니다.\n",
    "x = np.linspace(-10, 10, 100)\n",
    "# 사인 함수를 사용하여 y 배열을 생성합니다.\n",
    "y = np.sin(x)\n",
    "# plot 함수는 한 배열의 값을 다른 배열에 대응해서 선 그래프를 그립니다.\n",
    "plt.plot(x, y, marker=\"x\")"
   ]
  },
  {
   "cell_type": "markdown",
   "metadata": {},
   "source": [
    "#### pandas"
   ]
  },
  {
   "cell_type": "code",
   "execution_count": null,
   "metadata": {
    "scrolled": true,
    "uuid": "ad1b06f7-e03a-4938-9d59-5bb40e848553"
   },
   "outputs": [],
   "source": [
    "import pandas as pd\n",
    "\n",
    "# 회원 정보가 들어간 간단한 데이터셋을 생성합니다.\n",
    "data = {'Name': [\"John\", \"Anna\", \"Peter\", \"Linda\"],\n",
    "        'Location' : [\"New York\", \"Paris\", \"Berlin\", \"London\"],\n",
    "        'Age' : [24, 13, 53, 33]\n",
    "       }\n",
    "\n",
    "data_pandas = pd.DataFrame(data)\n",
    "# IPython.display는 주피터 노트북에서 Dataframe을 미려하게 출력해줍니다.\n",
    "display(data_pandas)"
   ]
  },
  {
   "cell_type": "code",
   "execution_count": null,
   "metadata": {},
   "outputs": [],
   "source": [
    "# Age 열의 값이 30 이상인 모든 행을 선택합니다.\n",
    "display(data_pandas[data_pandas.Age > 30])"
   ]
  },
  {
   "cell_type": "markdown",
   "metadata": {},
   "source": [
    "#### mglearn"
   ]
  },
  {
   "cell_type": "markdown",
   "metadata": {},
   "source": [
    "### 파이썬 2 vs. 파이썬 3"
   ]
  },
  {
   "cell_type": "markdown",
   "metadata": {},
   "source": [
    "### 이 책에서 사용하는 소프트웨어 버전"
   ]
  },
  {
   "cell_type": "code",
   "execution_count": null,
   "metadata": {},
   "outputs": [],
   "source": [
    "import sys\n",
    "print(\"Python 버전: {}\".format(sys.version))\n",
    "\n",
    "import pandas as pd\n",
    "print(\"pandas 버전: {}\".format(pd.__version__))\n",
    "\n",
    "import matplotlib\n",
    "print(\"matplotlib 버전: {}\".format(matplotlib.__version__))\n",
    "\n",
    "import numpy as np\n",
    "print(\"NumPy 버전: {}\".format(np.__version__))\n",
    "\n",
    "import scipy as sp\n",
    "print(\"SciPy 버전: {}\".format(sp.__version__))\n",
    "\n",
    "import IPython\n",
    "print(\"IPython 버전: {}\".format(IPython.__version__))\n",
    "\n",
    "import sklearn\n",
    "print(\"scikit-learn 버전: {}\".format(sklearn.__version__))"
   ]
  },
  {
   "cell_type": "markdown",
   "metadata": {},
   "source": [
    "### 첫 번째 애플리케이션: 붓꽃의 품종 분류\n",
    "#### 데이터 적재"
   ]
  },
  {
   "cell_type": "raw",
   "metadata": {},
   "source": [
    "* 클래스: 출력 가능 값 (붓꽃의 종류)\n",
    "* 샘플, 데이터 포인트, 데이터: 데이터\n",
    "* 레이블: 특정 데이터 포인트에 대한 출력\n",
    "* 특징(특성, feature): 데이터의 관심 속성"
   ]
  },
  {
   "cell_type": "code",
   "execution_count": null,
   "metadata": {
    "scrolled": true
   },
   "outputs": [],
   "source": [
    "from sklearn.datasets import load_iris\n",
    "iris_dataset = load_iris()"
   ]
  },
  {
   "cell_type": "code",
   "execution_count": null,
   "metadata": {},
   "outputs": [],
   "source": [
    "print(\"iris_dataset의 키: {}\".format(iris_dataset.keys()))"
   ]
  },
  {
   "cell_type": "code",
   "execution_count": null,
   "metadata": {
    "scrolled": true
   },
   "outputs": [],
   "source": [
    "print(iris_dataset['DESCR'][:193] + \"\\n...\")"
   ]
  },
  {
   "cell_type": "code",
   "execution_count": null,
   "metadata": {},
   "outputs": [],
   "source": [
    "print(\"타깃의 이름: {}\".format(iris_dataset['target_names']))"
   ]
  },
  {
   "cell_type": "code",
   "execution_count": null,
   "metadata": {},
   "outputs": [],
   "source": [
    "print(\"특성의 이름: {}\".format(iris_dataset['feature_names']))"
   ]
  },
  {
   "cell_type": "raw",
   "metadata": {},
   "source": [
    "실제 데이터는 data와 target에 들어있음."
   ]
  },
  {
   "cell_type": "code",
   "execution_count": null,
   "metadata": {},
   "outputs": [],
   "source": [
    "print(\"data의 타입: {}\".format(type(iris_dataset['data'])))"
   ]
  },
  {
   "cell_type": "code",
   "execution_count": null,
   "metadata": {},
   "outputs": [],
   "source": [
    "print(\"data의 크기: {}\".format(iris_dataset['data'].shape))"
   ]
  },
  {
   "cell_type": "code",
   "execution_count": null,
   "metadata": {},
   "outputs": [],
   "source": [
    "print(\"data의 처음 다섯 행:\\n{}\".format(iris_dataset['data'][:5]))"
   ]
  },
  {
   "cell_type": "code",
   "execution_count": null,
   "metadata": {},
   "outputs": [],
   "source": [
    "print(\"target의 타입: {}\".format(type(iris_dataset['target'])))"
   ]
  },
  {
   "cell_type": "code",
   "execution_count": null,
   "metadata": {},
   "outputs": [],
   "source": [
    "print(\"target의 크기: {}\".format(iris_dataset['target'].shape))"
   ]
  },
  {
   "cell_type": "code",
   "execution_count": null,
   "metadata": {},
   "outputs": [],
   "source": [
    "print(\"타깃:\\n{}\".format(iris_dataset['target']))"
   ]
  },
  {
   "cell_type": "markdown",
   "metadata": {},
   "source": [
    "#### 성과 측정: 훈련 데이터와 테스트 데이터"
   ]
  },
  {
   "cell_type": "raw",
   "metadata": {},
   "source": [
    "* 훈련 데이터, 훈련 세트: 머신러닝 모델 작성 시 사용\n",
    "* 테스트 데이터, 테스트 세트, 홀드아웃 세트: 모델이 얼마나 잘 작동하는지 측정에 사용\n",
    "\n",
    "* 훈련 데이터를 평가를 위한 테스트 데이터로 사용하는 경우 훈련 데이터를 모두 정확하게 맞출 수 있으므로 평가 목적에 맞지 않음\n",
    "\n",
    "        ==> '일반화'가 되어 있지 않음\n",
    "\n",
    "* train_test_split()\n",
    "  : 데이터셋을 섞어서 나누는 함수\n",
    "  - 훈련 세트: 전체 데이터 포인트 중 75%, 레이블 데이터도 함께\n",
    "  - 테스트 세트: 나머지 25%"
   ]
  },
  {
   "cell_type": "code",
   "execution_count": null,
   "metadata": {},
   "outputs": [],
   "source": [
    "from sklearn.model_selection import train_test_split\n",
    "X_train, X_test, y_train, y_test = train_test_split(\n",
    "    iris_dataset['data'], iris_dataset['target'], random_state=0)"
   ]
  },
  {
   "cell_type": "code",
   "execution_count": null,
   "metadata": {},
   "outputs": [],
   "source": [
    "print(\"X_train 크기: {}\".format(X_train.shape))\n",
    "print(\"y_train 크기: {}\".format(y_train.shape))"
   ]
  },
  {
   "cell_type": "code",
   "execution_count": null,
   "metadata": {},
   "outputs": [],
   "source": [
    "print(\"X_test 크기: {}\".format(X_test.shape))\n",
    "print(\"y_test 크기: {}\".format(y_test.shape))"
   ]
  },
  {
   "cell_type": "markdown",
   "metadata": {},
   "source": [
    "#### 가장 먼저 할 일: 데이터 살펴보기"
   ]
  },
  {
   "cell_type": "raw",
   "metadata": {},
   "source": [
    "* 머신러닝 없이 풀 수 있는 문제는 아닌지\n",
    "* 누락된 데이터는 없는지\n",
    "* 데이터에 일관성이 없는지\n",
    "\n",
    "* EDA 수행\n",
    "* 시각화"
   ]
  },
  {
   "cell_type": "code",
   "execution_count": null,
   "metadata": {},
   "outputs": [],
   "source": [
    "import mglearn"
   ]
  },
  {
   "cell_type": "code",
   "execution_count": null,
   "metadata": {},
   "outputs": [],
   "source": [
    "# X_train 데이터를 사용해서 데이터프레임을 만듭니다.\n",
    "# 열의 이름은 iris_dataset.feature_names에 있는 문자열을 사용합니다.\n",
    "iris_dataframe = pd.DataFrame(X_train, columns=iris_dataset.feature_names)\n",
    "# 데이터프레임을 사용해 y_train에 따라 색으로 구분된 산점도 행렬을 만듭니다.\n",
    "pd.plotting.scatter_matrix(iris_dataframe, c=y_train, figsize=(15, 15), marker='o',\n",
    "                           hist_kwds={'bins': 20}, s=60, alpha=.8, cmap=mglearn.cm3)"
   ]
  },
  {
   "cell_type": "raw",
   "metadata": {},
   "source": [
    "* 꽃잎(petal)과 꽃받침(sepal)에 의해 붓꽃 품종이 잘 구분됨이 확인"
   ]
  },
  {
   "cell_type": "markdown",
   "metadata": {},
   "source": [
    "#### 첫 번째 머신 러닝 모델: k-최근접 이웃 알고리즘"
   ]
  },
  {
   "cell_type": "raw",
   "metadata": {},
   "source": [
    "* scikit-learn의 모든 머신러닝 모델은 Estimator라는 파이썬 클래스로 구현\n",
    "* 클래스로부터 객체를 만들어서 모델 사용"
   ]
  },
  {
   "cell_type": "raw",
   "metadata": {},
   "source": [
    "* 머신러닝 모델 선택 및 객체 생성"
   ]
  },
  {
   "cell_type": "code",
   "execution_count": null,
   "metadata": {},
   "outputs": [],
   "source": [
    "from sklearn.neighbors import KNeighborsClassifier\n",
    "knn = KNeighborsClassifier(n_neighbors=1)"
   ]
  },
  {
   "cell_type": "code",
   "execution_count": null,
   "metadata": {},
   "outputs": [],
   "source": [
    "KNeighborsClassifier?"
   ]
  },
  {
   "cell_type": "raw",
   "metadata": {},
   "source": [
    "* 모델 생성 및 훈련\n",
    "  : fit()는 객체 자체를 변경하고 반환"
   ]
  },
  {
   "cell_type": "code",
   "execution_count": null,
   "metadata": {},
   "outputs": [],
   "source": [
    "knn.fit(X_train, y_train)"
   ]
  },
  {
   "cell_type": "markdown",
   "metadata": {
    "collapsed": true
   },
   "source": [
    "#### 예측하기"
   ]
  },
  {
   "cell_type": "raw",
   "metadata": {},
   "source": [
    "* 마을 어귀에서 꽃받침 길이 5cm, 폭 2.9cm, 꽃잎 길이 1cm, 폭이 0.2cm인 붓꽃을 발견\n",
    "* 어느 품종에 속할까?\n",
    "  => (샘플 1 X 특징 4) 인 NumPy 배열 준비"
   ]
  },
  {
   "cell_type": "code",
   "execution_count": null,
   "metadata": {},
   "outputs": [],
   "source": [
    "X_new = np.array([[5, 2.9, 1, 0.2]])\n",
    "print(\"X_new.shape: {}\".format(X_new.shape))"
   ]
  },
  {
   "cell_type": "raw",
   "metadata": {},
   "source": [
    "* predict()로 예측"
   ]
  },
  {
   "cell_type": "code",
   "execution_count": null,
   "metadata": {},
   "outputs": [],
   "source": [
    "prediction = knn.predict(X_new)\n",
    "print(\"예측: {}\".format(prediction))\n",
    "print(\"예측한 타깃의 이름: {}\".format(\n",
    "       iris_dataset['target_names'][prediction]))"
   ]
  },
  {
   "cell_type": "markdown",
   "metadata": {},
   "source": [
    "#### 모델 평가하기"
   ]
  },
  {
   "cell_type": "raw",
   "metadata": {},
   "source": [
    "* 테스트 세트를 사용할 시기\n",
    "\n",
    "* 모델 성능 평가\n",
    "  - 정확도 계산"
   ]
  },
  {
   "cell_type": "code",
   "execution_count": null,
   "metadata": {},
   "outputs": [],
   "source": [
    "y_pred = knn.predict(X_test)\n",
    "print(\"테스트 세트에 대한 예측값:\\n {}\".format(y_pred))"
   ]
  },
  {
   "cell_type": "code",
   "execution_count": null,
   "metadata": {},
   "outputs": [],
   "source": [
    "print(\"테스트 세트의 정확도: {:.2f}\".format(np.mean(y_pred == y_test)))"
   ]
  },
  {
   "cell_type": "raw",
   "metadata": {},
   "source": [
    "* score() "
   ]
  },
  {
   "cell_type": "code",
   "execution_count": null,
   "metadata": {},
   "outputs": [],
   "source": [
    "print(\"테스트 세트의 정확도: {:.2f}\".format(knn.score(X_test, y_test)))"
   ]
  },
  {
   "cell_type": "raw",
   "metadata": {},
   "source": [
    "* 이 모델은 새로운 붓꽃에 대한 분류의 정확도가 ??%일 것으로 기대"
   ]
  },
  {
   "cell_type": "markdown",
   "metadata": {},
   "source": [
    "### 요약"
   ]
  },
  {
   "cell_type": "code",
   "execution_count": null,
   "metadata": {},
   "outputs": [],
   "source": [
    "X_train, X_test, y_train, y_test = train_test_split(\n",
    "    iris_dataset['data'], iris_dataset['target'], random_state=0)\n",
    "\n",
    "knn = KNeighborsClassifier(n_neighbors=1)\n",
    "knn.fit(X_train, y_train)\n",
    "\n",
    "print(\"테스트 세트의 정확도: {:.2f}\".format(knn.score(X_test, y_test)))"
   ]
  }
 ],
 "metadata": {
  "anaconda-cloud": {},
  "kernelspec": {
   "display_name": "Python 3",
   "language": "python",
   "name": "python3"
  },
  "language_info": {
   "codemirror_mode": {
    "name": "ipython",
    "version": 3
   },
   "file_extension": ".py",
   "mimetype": "text/x-python",
   "name": "python",
   "nbconvert_exporter": "python",
   "pygments_lexer": "ipython3",
   "version": "3.6.4"
  }
 },
 "nbformat": 4,
 "nbformat_minor": 1
}
